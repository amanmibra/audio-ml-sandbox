{
 "cells": [
  {
   "cell_type": "code",
   "execution_count": 1,
   "id": "84c9fc8a",
   "metadata": {},
   "outputs": [],
   "source": [
    "import numpy as np"
   ]
  },
  {
   "cell_type": "code",
   "execution_count": 3,
   "id": "eaef8418",
   "metadata": {},
   "outputs": [
    {
     "name": "stdout",
     "output_type": "stream",
     "text": [
      "Collecting pandas\n",
      "  Downloading pandas-2.0.1-cp310-cp310-macosx_11_0_arm64.whl (10.8 MB)\n",
      "\u001b[2K     \u001b[38;2;114;156;31m━━━━━━━━━━━━━━━━━━━━━━━━━━━━━━━━━━━━━━━━\u001b[0m \u001b[32m10.8/10.8 MB\u001b[0m \u001b[31m9.0 MB/s\u001b[0m eta \u001b[36m0:00:00\u001b[0mm eta \u001b[36m0:00:01\u001b[0m:01\u001b[0m:01\u001b[0m\n",
      "\u001b[?25hRequirement already satisfied: python-dateutil>=2.8.2 in /Users/amanmibra/anaconda3/envs/audio/lib/python3.10/site-packages (from pandas) (2.8.2)\n",
      "Collecting tzdata>=2022.1\n",
      "  Downloading tzdata-2023.3-py2.py3-none-any.whl (341 kB)\n",
      "\u001b[2K     \u001b[38;2;114;156;31m━━━━━━━━━━━━━━━━━━━━━━━━━━━━━━━━━━━━━━\u001b[0m \u001b[32m341.8/341.8 kB\u001b[0m \u001b[31m13.7 MB/s\u001b[0m eta \u001b[36m0:00:00\u001b[0m\n",
      "\u001b[?25hCollecting pytz>=2020.1\n",
      "  Downloading pytz-2023.3-py2.py3-none-any.whl (502 kB)\n",
      "\u001b[2K     \u001b[38;2;114;156;31m━━━━━━━━━━━━━━━━━━━━━━━━━━━━━━━━━━━━━━\u001b[0m \u001b[32m502.3/502.3 kB\u001b[0m \u001b[31m18.4 MB/s\u001b[0m eta \u001b[36m0:00:00\u001b[0m\n",
      "\u001b[?25hRequirement already satisfied: numpy>=1.21.0 in /Users/amanmibra/anaconda3/envs/audio/lib/python3.10/site-packages (from pandas) (1.24.3)\n",
      "Requirement already satisfied: six>=1.5 in /Users/amanmibra/anaconda3/envs/audio/lib/python3.10/site-packages (from python-dateutil>=2.8.2->pandas) (1.16.0)\n",
      "Installing collected packages: pytz, tzdata, pandas\n",
      "Successfully installed pandas-2.0.1 pytz-2023.3 tzdata-2023.3\n"
     ]
    }
   ],
   "source": [
    "!pip install pandas"
   ]
  },
  {
   "cell_type": "code",
   "execution_count": 4,
   "id": "08af6af9",
   "metadata": {},
   "outputs": [],
   "source": [
    "import pandas as pd"
   ]
  },
  {
   "cell_type": "code",
   "execution_count": 10,
   "id": "9cf0dfb7",
   "metadata": {},
   "outputs": [],
   "source": [
    "df = pd.read_csv('./data-13.0/en/validated.tsv', sep='\\t')"
   ]
  },
  {
   "cell_type": "code",
   "execution_count": 14,
   "id": "197a646a",
   "metadata": {},
   "outputs": [
    {
     "data": {
      "text/html": [
       "<div>\n",
       "<style scoped>\n",
       "    .dataframe tbody tr th:only-of-type {\n",
       "        vertical-align: middle;\n",
       "    }\n",
       "\n",
       "    .dataframe tbody tr th {\n",
       "        vertical-align: top;\n",
       "    }\n",
       "\n",
       "    .dataframe thead th {\n",
       "        text-align: right;\n",
       "    }\n",
       "</style>\n",
       "<table border=\"1\" class=\"dataframe\">\n",
       "  <thead>\n",
       "    <tr style=\"text-align: right;\">\n",
       "      <th></th>\n",
       "      <th>client_id</th>\n",
       "      <th>path</th>\n",
       "      <th>sentence</th>\n",
       "      <th>up_votes</th>\n",
       "      <th>down_votes</th>\n",
       "      <th>age</th>\n",
       "      <th>gender</th>\n",
       "      <th>accents</th>\n",
       "      <th>variant</th>\n",
       "      <th>locale</th>\n",
       "      <th>segment</th>\n",
       "    </tr>\n",
       "  </thead>\n",
       "  <tbody>\n",
       "    <tr>\n",
       "      <th>0</th>\n",
       "      <td>00629ef5283de6396fb220d873d360b001eee93946c704...</td>\n",
       "      <td>common_voice_en_36938066.mp3</td>\n",
       "      <td>One day at noon a woman fell asleep among the ...</td>\n",
       "      <td>2</td>\n",
       "      <td>0</td>\n",
       "      <td>NaN</td>\n",
       "      <td>NaN</td>\n",
       "      <td>NaN</td>\n",
       "      <td>NaN</td>\n",
       "      <td>en</td>\n",
       "      <td>NaN</td>\n",
       "    </tr>\n",
       "    <tr>\n",
       "      <th>1</th>\n",
       "      <td>0365b018a15ab96510f1368f4910554f97f6c278320e78...</td>\n",
       "      <td>common_voice_en_36827090.mp3</td>\n",
       "      <td>Then they scrambled round the rocks to the oth...</td>\n",
       "      <td>2</td>\n",
       "      <td>0</td>\n",
       "      <td>NaN</td>\n",
       "      <td>NaN</td>\n",
       "      <td>Filipino</td>\n",
       "      <td>NaN</td>\n",
       "      <td>en</td>\n",
       "      <td>NaN</td>\n",
       "    </tr>\n",
       "    <tr>\n",
       "      <th>2</th>\n",
       "      <td>040c5f7d97439fed61c9d3fcee6f7addc2ebf2ad6a37b0...</td>\n",
       "      <td>common_voice_en_36998293.mp3</td>\n",
       "      <td>Dollar shops sell the rest.</td>\n",
       "      <td>2</td>\n",
       "      <td>0</td>\n",
       "      <td>NaN</td>\n",
       "      <td>NaN</td>\n",
       "      <td>NaN</td>\n",
       "      <td>NaN</td>\n",
       "      <td>en</td>\n",
       "      <td>NaN</td>\n",
       "    </tr>\n",
       "    <tr>\n",
       "      <th>3</th>\n",
       "      <td>045edc6abc782d44bafdaf8fe589fb6c80a61c79600bbb...</td>\n",
       "      <td>common_voice_en_37238108.mp3</td>\n",
       "      <td>My very best concert bonnet.</td>\n",
       "      <td>2</td>\n",
       "      <td>0</td>\n",
       "      <td>NaN</td>\n",
       "      <td>NaN</td>\n",
       "      <td>NaN</td>\n",
       "      <td>NaN</td>\n",
       "      <td>en</td>\n",
       "      <td>NaN</td>\n",
       "    </tr>\n",
       "    <tr>\n",
       "      <th>4</th>\n",
       "      <td>057b228da4bf607b2ae29c1356bb6488388dce661f6c4d...</td>\n",
       "      <td>common_voice_en_36965345.mp3</td>\n",
       "      <td>This time, however, as the padded envelopes we...</td>\n",
       "      <td>2</td>\n",
       "      <td>0</td>\n",
       "      <td>NaN</td>\n",
       "      <td>NaN</td>\n",
       "      <td>NaN</td>\n",
       "      <td>NaN</td>\n",
       "      <td>en</td>\n",
       "      <td>NaN</td>\n",
       "    </tr>\n",
       "  </tbody>\n",
       "</table>\n",
       "</div>"
      ],
      "text/plain": [
       "                                           client_id   \n",
       "0  00629ef5283de6396fb220d873d360b001eee93946c704...  \\\n",
       "1  0365b018a15ab96510f1368f4910554f97f6c278320e78...   \n",
       "2  040c5f7d97439fed61c9d3fcee6f7addc2ebf2ad6a37b0...   \n",
       "3  045edc6abc782d44bafdaf8fe589fb6c80a61c79600bbb...   \n",
       "4  057b228da4bf607b2ae29c1356bb6488388dce661f6c4d...   \n",
       "\n",
       "                           path   \n",
       "0  common_voice_en_36938066.mp3  \\\n",
       "1  common_voice_en_36827090.mp3   \n",
       "2  common_voice_en_36998293.mp3   \n",
       "3  common_voice_en_37238108.mp3   \n",
       "4  common_voice_en_36965345.mp3   \n",
       "\n",
       "                                            sentence  up_votes  down_votes   \n",
       "0  One day at noon a woman fell asleep among the ...         2           0  \\\n",
       "1  Then they scrambled round the rocks to the oth...         2           0   \n",
       "2                        Dollar shops sell the rest.         2           0   \n",
       "3                       My very best concert bonnet.         2           0   \n",
       "4  This time, however, as the padded envelopes we...         2           0   \n",
       "\n",
       "   age gender   accents  variant locale  segment  \n",
       "0  NaN    NaN       NaN      NaN     en      NaN  \n",
       "1  NaN    NaN  Filipino      NaN     en      NaN  \n",
       "2  NaN    NaN       NaN      NaN     en      NaN  \n",
       "3  NaN    NaN       NaN      NaN     en      NaN  \n",
       "4  NaN    NaN       NaN      NaN     en      NaN  "
      ]
     },
     "execution_count": 14,
     "metadata": {},
     "output_type": "execute_result"
    }
   ],
   "source": [
    "df.head()"
   ]
  },
  {
   "cell_type": "code",
   "execution_count": 16,
   "id": "8ae36a09",
   "metadata": {},
   "outputs": [],
   "source": [
    "texts = df['sentence']"
   ]
  },
  {
   "cell_type": "code",
   "execution_count": 17,
   "id": "c722ed23",
   "metadata": {},
   "outputs": [
    {
     "data": {
      "text/plain": [
       "0       One day at noon a woman fell asleep among the ...\n",
       "1       Then they scrambled round the rocks to the oth...\n",
       "2                             Dollar shops sell the rest.\n",
       "3                            My very best concert bonnet.\n",
       "4       This time, however, as the padded envelopes we...\n",
       "                              ...                        \n",
       "6978    The lyrics were inspired by the experiences th...\n",
       "6979    Some negative behaviours by corporations may n...\n",
       "6980             Coe was born in Tamworth, Staffordshire.\n",
       "6981    Yamada went to the University of Missouri and ...\n",
       "6982    Danube University Krems has specialized in pos...\n",
       "Name: sentence, Length: 6983, dtype: object"
      ]
     },
     "execution_count": 17,
     "metadata": {},
     "output_type": "execute_result"
    }
   ],
   "source": [
    "texts"
   ]
  },
  {
   "cell_type": "code",
   "execution_count": 30,
   "id": "a35845cd",
   "metadata": {},
   "outputs": [],
   "source": [
    "dups = df[texts.duplicated() == True]['sentence'].unique()"
   ]
  },
  {
   "cell_type": "code",
   "execution_count": 31,
   "id": "8034bc6a",
   "metadata": {},
   "outputs": [
    {
     "name": "stdout",
     "output_type": "stream",
     "text": [
      "Buffalo provides municipal water and sewer and contracts for refuse service. -- 2\n",
      "Adapted from the \"Potential\" liner notes. -- 2\n",
      "The Generals then fell to the Fort Wayne Komets in a competitive five-game series. -- 2\n",
      "Vietnamese security forces later arrested him on the ground. -- 2\n",
      "Benzali also appeared on Broadway in \"Fiddler on the Roof\" and other smaller productions. -- 2\n",
      "The trace formula also has purely differential-geometric applications. -- 2\n",
      "Bushwalkers sometimes informally refer to it as \"Fake Pedder\". -- 2\n",
      "A clone of \"Son of Blagger\" was released for Amiga, titled \"Jonas Fulstrand\". -- 2\n",
      "He would remain in Florence for twelve years. -- 2\n",
      "Forester, and Patrick O'Brian. -- 2\n",
      "Despite the name, the program was created for non-Indian children. -- 2\n",
      "The complex includes nature trails and tourist accommodation. -- 2\n",
      "The old and new stations are connected by a road. -- 2\n",
      "Due to an urban legend, Espeland Falls is sometimes erroneously claimed to be tall. -- 2\n",
      "It was suggested that it may be restricted to the region around Ethiopia. -- 2\n",
      "Amesbury also shot a documentary film of the tour. -- 2\n",
      "The Broadway-bound musical closed on the road. -- 2\n",
      "The move broke down due to assurances over first team football. -- 2\n",
      "Coverage of content and transmissions is limited to Flanders. -- 2\n",
      "The team medals, however, were not affected by this incident. -- 2\n",
      "Sayer has an aldermanic form of city government. -- 2\n",
      "For this purpose, the bookmaker will normally adjust the odds or the \"line\". -- 2\n",
      "He was also active on the Board of Visitors of Virginia Military Institute. -- 2\n",
      "Pots full of butter, milk, and flesh are placed among the branches. -- 2\n",
      "Both of Newman's children are pursuing acting careers. -- 2\n",
      "Members of the House of Representatives served four-year terms, while senators served six-year terms. -- 2\n",
      "One man says, What's that package up there in the baggage rack? -- 2\n",
      "What they meant by this marriage ceremony is not easy to imagine. -- 2\n",
      "She also covered the riots in Haiti. -- 2\n",
      "It forms part of the Wolverhampton South West constituency. -- 2\n"
     ]
    }
   ],
   "source": [
    "for s in dups:\n",
    "    rows = df[texts == s]\n",
    "    print(f\"{s} -- {rows.shape[0]}\")"
   ]
  },
  {
   "cell_type": "code",
   "execution_count": 33,
   "id": "89265d30",
   "metadata": {},
   "outputs": [
    {
     "data": {
      "text/html": [
       "<div>\n",
       "<style scoped>\n",
       "    .dataframe tbody tr th:only-of-type {\n",
       "        vertical-align: middle;\n",
       "    }\n",
       "\n",
       "    .dataframe tbody tr th {\n",
       "        vertical-align: top;\n",
       "    }\n",
       "\n",
       "    .dataframe thead th {\n",
       "        text-align: right;\n",
       "    }\n",
       "</style>\n",
       "<table border=\"1\" class=\"dataframe\">\n",
       "  <thead>\n",
       "    <tr style=\"text-align: right;\">\n",
       "      <th></th>\n",
       "      <th>client_id</th>\n",
       "      <th>path</th>\n",
       "      <th>sentence</th>\n",
       "      <th>up_votes</th>\n",
       "      <th>down_votes</th>\n",
       "      <th>age</th>\n",
       "      <th>gender</th>\n",
       "      <th>accents</th>\n",
       "      <th>variant</th>\n",
       "      <th>locale</th>\n",
       "      <th>segment</th>\n",
       "    </tr>\n",
       "  </thead>\n",
       "  <tbody>\n",
       "    <tr>\n",
       "      <th>1106</th>\n",
       "      <td>c7a716d0842666580c8095572852886e9f6c4d98fef07e...</td>\n",
       "      <td>common_voice_en_37062751.mp3</td>\n",
       "      <td>It forms part of the Wolverhampton South West ...</td>\n",
       "      <td>2</td>\n",
       "      <td>0</td>\n",
       "      <td>thirties</td>\n",
       "      <td>male</td>\n",
       "      <td>United States English</td>\n",
       "      <td>NaN</td>\n",
       "      <td>en</td>\n",
       "      <td>NaN</td>\n",
       "    </tr>\n",
       "    <tr>\n",
       "      <th>6941</th>\n",
       "      <td>8796693fb19970eda73c742a411fd9fdea613f4d64d9a3...</td>\n",
       "      <td>common_voice_en_37022747.mp3</td>\n",
       "      <td>It forms part of the Wolverhampton South West ...</td>\n",
       "      <td>2</td>\n",
       "      <td>0</td>\n",
       "      <td>fifties</td>\n",
       "      <td>female</td>\n",
       "      <td>United States English</td>\n",
       "      <td>NaN</td>\n",
       "      <td>en</td>\n",
       "      <td>NaN</td>\n",
       "    </tr>\n",
       "  </tbody>\n",
       "</table>\n",
       "</div>"
      ],
      "text/plain": [
       "                                              client_id   \n",
       "1106  c7a716d0842666580c8095572852886e9f6c4d98fef07e...  \\\n",
       "6941  8796693fb19970eda73c742a411fd9fdea613f4d64d9a3...   \n",
       "\n",
       "                              path   \n",
       "1106  common_voice_en_37062751.mp3  \\\n",
       "6941  common_voice_en_37022747.mp3   \n",
       "\n",
       "                                               sentence  up_votes  down_votes   \n",
       "1106  It forms part of the Wolverhampton South West ...         2           0  \\\n",
       "6941  It forms part of the Wolverhampton South West ...         2           0   \n",
       "\n",
       "           age  gender                accents  variant locale  segment  \n",
       "1106  thirties    male  United States English      NaN     en      NaN  \n",
       "6941   fifties  female  United States English      NaN     en      NaN  "
      ]
     },
     "execution_count": 33,
     "metadata": {},
     "output_type": "execute_result"
    }
   ],
   "source": [
    "df[texts == s]"
   ]
  },
  {
   "cell_type": "code",
   "execution_count": null,
   "id": "33a29f49",
   "metadata": {},
   "outputs": [],
   "source": []
  }
 ],
 "metadata": {
  "kernelspec": {
   "display_name": "Python 3 (ipykernel)",
   "language": "python",
   "name": "python3"
  },
  "language_info": {
   "codemirror_mode": {
    "name": "ipython",
    "version": 3
   },
   "file_extension": ".py",
   "mimetype": "text/x-python",
   "name": "python",
   "nbconvert_exporter": "python",
   "pygments_lexer": "ipython3",
   "version": "3.10.10"
  }
 },
 "nbformat": 4,
 "nbformat_minor": 5
}
